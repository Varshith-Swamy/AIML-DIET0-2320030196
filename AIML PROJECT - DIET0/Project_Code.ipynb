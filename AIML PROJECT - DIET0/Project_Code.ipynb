{
  "nbformat": 4,
  "nbformat_minor": 0,
  "metadata": {
    "colab": {
      "provenance": []
    },
    "kernelspec": {
      "name": "python3",
      "display_name": "Python 3"
    },
    "language_info": {
      "name": "python"
    }
  },
  "cells": [
    {
      "cell_type": "code",
      "execution_count": 1,
      "metadata": {
        "colab": {
          "base_uri": "https://localhost:8080/"
        },
        "id": "v_HaMu96qXe2",
        "outputId": "a3117322-fb6d-4f59-b7cb-3177ab77df3e"
      },
      "outputs": [
        {
          "output_type": "stream",
          "name": "stdout",
          "text": [
            "Welcome to the Automated Diet Plan Chatbot for Gym Beginners!\n",
            "\n",
            "What is your fitness goal?\n",
            "1. Muscle Gain\n",
            "2. Fat Loss\n",
            "3. Maintenance\n",
            "Please enter the number corresponding to your goal: 2\n",
            "\n",
            "Meal options for fat loss:\n",
            "\n",
            "Recipe: Grilled Chicken Salad\n",
            "Ingredients: chicken breast, mixed greens, olive oil, avocado\n",
            "Calories: 450 kcal\n",
            "Macronutrients: Protein: 35g, Carbs: 15g, Fat: 25g\n",
            "Prep Time: 15 minutes\n",
            "Servings: 2\n",
            "\n"
          ]
        }
      ],
      "source": [
        "# Sample Dataset\n",
        "recipes = [\n",
        "    {\n",
        "        \"recipe_name\": \"High-Protein Oatmeal\",\n",
        "        \"ingredients\": [\"rolled oats\", \"protein powder\", \"almond milk\", \"banana\"],\n",
        "        \"dietary_category\": \"high-protein\",\n",
        "        \"calories\": 350,\n",
        "        \"macronutrients\": {\"protein\": \"20g\", \"carbs\": \"40g\", \"fat\": \"10g\"},\n",
        "        \"prep_time\": \"5 minutes\",\n",
        "        \"servings\": 1\n",
        "    },\n",
        "    {\n",
        "        \"recipe_name\": \"Grilled Chicken Salad\",\n",
        "        \"ingredients\": [\"chicken breast\", \"mixed greens\", \"olive oil\", \"avocado\"],\n",
        "        \"dietary_category\": \"low-carb\",\n",
        "        \"calories\": 450,\n",
        "        \"macronutrients\": {\"protein\": \"35g\", \"carbs\": \"15g\", \"fat\": \"25g\"},\n",
        "        \"prep_time\": \"15 minutes\",\n",
        "        \"servings\": 2\n",
        "    },\n",
        "    {\n",
        "        \"recipe_name\": \"Post-Workout Smoothie\",\n",
        "        \"ingredients\": [\"whey protein\", \"banana\", \"peanut butter\", \"almond milk\"],\n",
        "        \"dietary_category\": \"post-workout\",\n",
        "        \"calories\": 400,\n",
        "        \"macronutrients\": {\"protein\": \"30g\", \"carbs\": \"45g\", \"fat\": \"15g\"},\n",
        "        \"prep_time\": \"5 minutes\",\n",
        "        \"servings\": 1\n",
        "    }\n",
        "]\n",
        "\n",
        "# Function to display meal options based on user goal\n",
        "def display_meal_options(goal):\n",
        "    print(f\"\\nMeal options for {goal}:\\n\")\n",
        "    if goal == \"muscle gain\":\n",
        "        for recipe in recipes:\n",
        "            if recipe[\"dietary_category\"] in [\"high-protein\", \"post-workout\"]:\n",
        "                display_recipe(recipe)\n",
        "    elif goal == \"fat loss\":\n",
        "        for recipe in recipes:\n",
        "            if recipe[\"dietary_category\"] == \"low-carb\":\n",
        "                display_recipe(recipe)\n",
        "    else:\n",
        "        print(\"Sorry, we currently don't have meal plans for this goal.\")\n",
        "\n",
        "# Function to display individual recipe details\n",
        "def display_recipe(recipe):\n",
        "    print(f\"Recipe: {recipe['recipe_name']}\")\n",
        "    print(f\"Ingredients: {', '.join(recipe['ingredients'])}\")\n",
        "    print(f\"Calories: {recipe['calories']} kcal\")\n",
        "    print(f\"Macronutrients: Protein: {recipe['macronutrients']['protein']}, \"\n",
        "          f\"Carbs: {recipe['macronutrients']['carbs']}, Fat: {recipe['macronutrients']['fat']}\")\n",
        "    print(f\"Prep Time: {recipe['prep_time']}\")\n",
        "    print(f\"Servings: {recipe['servings']}\")\n",
        "    print()\n",
        "\n",
        "# Chatbot interaction\n",
        "def diet_plan_chatbot():\n",
        "    print(\"Welcome to the Automated Diet Plan Chatbot for Gym Beginners!\\n\")\n",
        "\n",
        "    # Get user input for dietary goal\n",
        "    print(\"What is your fitness goal?\")\n",
        "    print(\"1. Muscle Gain\")\n",
        "    print(\"2. Fat Loss\")\n",
        "    print(\"3. Maintenance\")\n",
        "    goal_input = input(\"Please enter the number corresponding to your goal: \")\n",
        "\n",
        "    if goal_input == \"1\":\n",
        "        goal = \"muscle gain\"\n",
        "    elif goal_input == \"2\":\n",
        "        goal = \"fat loss\"\n",
        "    elif goal_input == \"3\":\n",
        "        goal = \"maintenance\"\n",
        "    else:\n",
        "        print(\"Invalid input. Please restart.\")\n",
        "        return\n",
        "\n",
        "    # Display meal options based on goal\n",
        "    display_meal_options(goal)\n",
        "\n",
        "# Run the chatbot\n",
        "if __name__ == \"__main__\":\n",
        "    diet_plan_chatbot()\n"
      ]
    }
  ]
}